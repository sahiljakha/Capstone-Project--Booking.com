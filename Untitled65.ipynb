{
 "cells": [
  {
   "cell_type": "markdown",
   "id": "4937a272",
   "metadata": {},
   "source": [
    "write the SQL queries:"
   ]
  },
  {
   "cell_type": "markdown",
   "id": "0d81ebcb",
   "metadata": {},
   "source": [
    "Table 1"
   ]
  },
  {
   "cell_type": "markdown",
   "id": "53bf8d46",
   "metadata": {},
   "source": [
    "1) Write a query to give details of hotels city is Sydney and ratings is more then 5."
   ]
  },
  {
   "cell_type": "code",
   "execution_count": 1,
   "id": "9136614b",
   "metadata": {},
   "outputs": [
    {
     "name": "stdout",
     "output_type": "stream",
     "text": [
      "   sno Hotel name  cities    location  number of reviews  user ratings  \\\n",
      "0    1    Hotel A  Sydney  Location A                100           8.5   \n",
      "1    3    Hotel C  Sydney  Location C                 80           7.5   \n",
      "\n",
      "  star rating review score  \n",
      "0     4 stars    Excellent  \n",
      "1     3 stars         Good  \n"
     ]
    }
   ],
   "source": [
    "import sqlite3\n",
    "import pandas as pd\n",
    "\n",
    "# Create a temporary SQLite database\n",
    "conn = sqlite3.connect(':memory:')\n",
    "\n",
    "# Sample data for hotels (assuming the table name is 'hotels')\n",
    "data = [\n",
    "    (1, 'Hotel A', 'Sydney', 'Location A', 100, 8.5, '4 stars', 'Excellent'),\n",
    "    (2, 'Hotel B', 'London', 'Location B', 150, 9.0, '5 stars', 'Superb'),\n",
    "    (3, 'Hotel C', 'Sydney', 'Location C', 80, 7.5, '3 stars', 'Good'),\n",
    "    (4, 'Hotel D', 'Paris', 'Location D', 120, 8.0, '4 stars', 'Very Good'),\n",
    "]\n",
    "\n",
    "# Create a table and import the data\n",
    "conn.execute('''\n",
    "CREATE TABLE hotels (\n",
    "    sno INT,\n",
    "    \"Hotel name\" TEXT,\n",
    "    cities TEXT,\n",
    "    location TEXT,\n",
    "    \"number of reviews\" INT,\n",
    "    \"user ratings\" FLOAT,\n",
    "    \"star rating\" TEXT,\n",
    "    \"review score\" TEXT\n",
    ")\n",
    "''')\n",
    "\n",
    "conn.executemany('INSERT INTO hotels VALUES (?, ?, ?, ?, ?, ?, ?, ?)', data)\n",
    "\n",
    "# Run the SQL query\n",
    "query = '''\n",
    "SELECT *\n",
    "FROM hotels\n",
    "WHERE cities = 'Sydney' AND \"user ratings\" > 5;\n",
    "'''\n",
    "\n",
    "result = pd.read_sql_query(query, conn)\n",
    "\n",
    "# Close the database connection\n",
    "conn.close()\n",
    "\n",
    "# Print the result\n",
    "print(result)\n"
   ]
  },
  {
   "cell_type": "markdown",
   "id": "47b78509",
   "metadata": {},
   "source": [
    "2)  write a query to find the location with the most reviews."
   ]
  },
  {
   "cell_type": "code",
   "execution_count": 2,
   "id": "86927266",
   "metadata": {},
   "outputs": [
    {
     "name": "stdout",
     "output_type": "stream",
     "text": [
      "Location with the Most Reviews: Marine Drive\n",
      "   sno Hotel name  cities    location  number of reviews  user ratings  \\\n",
      "0    1    Hotel A  Sydney  Location A                100           8.5   \n",
      "1    3    Hotel C  Sydney  Location C                 80           7.5   \n",
      "\n",
      "  star rating review score  \n",
      "0     4 stars    Excellent  \n",
      "1     3 stars         Good  \n"
     ]
    }
   ],
   "source": [
    "import pandas as pd\n",
    "\n",
    "# Sample data for 12 cities (replace this with your actual data)\n",
    "data = {\n",
    "    'Hotel name': ['Hotel A', 'Hotel B', 'Hotel C', 'Hotel D', 'Hotel E',\n",
    "                   'Hotel F', 'Hotel G', 'Hotel H', 'Hotel I', 'Hotel J',\n",
    "                   'Hotel K', 'Hotel L'],\n",
    "    'Cities': ['Dubai', 'London', 'Paris', 'New York', 'Tokyo',\n",
    "               'Sydney', 'Los Angeles', 'Beijing', 'Mumbai', 'Rome',\n",
    "               'Cairo', 'Toronto'],\n",
    "    'Location': ['Downtown', 'City Center', 'Eiffel Tower', 'Times Square', 'Shinjuku',\n",
    "                 'Opera House', 'Hollywood', 'Forbidden City', 'Marine Drive', 'Colosseum',\n",
    "                 'Pyramids', 'CN Tower'],\n",
    "    'Number of Reviews': [500, 700, 300, 900, 400, 600, 800, 400, 1000, 500, 300, 500],\n",
    "    'User Ratings': [4.2, 4.5, 4.0, 4.8, 4.2, 4.3, 4.6, 4.1, 4.9, 4.3, 4.0, 4.4],\n",
    "    'Star Rating': [4, 5, 4, 5, 4, 4, 5, 4, 5, 4, 4, 4],\n",
    "    'Review Score': [8.4, 9.0, 8.1, 9.2, 8.5, 8.7, 9.1, 8.0, 9.4, 8.6, 8.1, 8.5]\n",
    "}\n",
    "\n",
    "# Create a DataFrame\n",
    "df = pd.DataFrame(data)\n",
    "\n",
    "# Find the location with the most reviews\n",
    "location_with_most_reviews = df.groupby('Location')['Number of Reviews'].sum().idxmax()\n",
    "\n",
    "print(\"Location with the Most Reviews:\", location_with_most_reviews)\n",
    "\n",
    "# Print the result\n",
    "print(result)"
   ]
  },
  {
   "cell_type": "raw",
   "id": "647102fc",
   "metadata": {},
   "source": [
    " 3) Write a query that will retrieve all rows and sort them in descending order of user ratings."
   ]
  },
  {
   "cell_type": "code",
   "execution_count": 3,
   "id": "711f5650",
   "metadata": {},
   "outputs": [
    {
     "name": "stdout",
     "output_type": "stream",
     "text": [
      "   Hotel name       Cities        Location  Number of Reviews  User Ratings  \\\n",
      "8     Hotel I       Mumbai    Marine Drive               1000           4.9   \n",
      "3     Hotel D     New York    Times Square                900           4.8   \n",
      "6     Hotel G  Los Angeles       Hollywood                800           4.6   \n",
      "1     Hotel B       London     City Center                700           4.5   \n",
      "11    Hotel L      Toronto        CN Tower                500           4.4   \n",
      "5     Hotel F       Sydney     Opera House                600           4.3   \n",
      "9     Hotel J         Rome       Colosseum                500           4.3   \n",
      "0     Hotel A        Dubai        Downtown                500           4.2   \n",
      "4     Hotel E        Tokyo        Shinjuku                400           4.2   \n",
      "7     Hotel H      Beijing  Forbidden City                400           4.1   \n",
      "2     Hotel C        Paris    Eiffel Tower                300           4.0   \n",
      "10    Hotel K        Cairo        Pyramids                300           4.0   \n",
      "\n",
      "    Star Rating  Review Score  \n",
      "8             5           9.4  \n",
      "3             5           9.2  \n",
      "6             5           9.1  \n",
      "1             5           9.0  \n",
      "11            4           8.5  \n",
      "5             4           8.7  \n",
      "9             4           8.6  \n",
      "0             4           8.4  \n",
      "4             4           8.5  \n",
      "7             4           8.0  \n",
      "2             4           8.1  \n",
      "10            4           8.1  \n"
     ]
    }
   ],
   "source": [
    "import pandas as pd\n",
    "\n",
    "# Sample data for 12 cities (replace this with your actual data)\n",
    "data = {\n",
    "    'Hotel name': ['Hotel A', 'Hotel B', 'Hotel C', 'Hotel D', 'Hotel E',\n",
    "                   'Hotel F', 'Hotel G', 'Hotel H', 'Hotel I', 'Hotel J',\n",
    "                   'Hotel K', 'Hotel L'],\n",
    "    'Cities': ['Dubai', 'London', 'Paris', 'New York', 'Tokyo',\n",
    "               'Sydney', 'Los Angeles', 'Beijing', 'Mumbai', 'Rome',\n",
    "               'Cairo', 'Toronto'],\n",
    "    'Location': ['Downtown', 'City Center', 'Eiffel Tower', 'Times Square', 'Shinjuku',\n",
    "                 'Opera House', 'Hollywood', 'Forbidden City', 'Marine Drive', 'Colosseum',\n",
    "                 'Pyramids', 'CN Tower'],\n",
    "    'Number of Reviews': [500, 700, 300, 900, 400, 600, 800, 400, 1000, 500, 300, 500],\n",
    "    'User Ratings': [4.2, 4.5, 4.0, 4.8, 4.2, 4.3, 4.6, 4.1, 4.9, 4.3, 4.0, 4.4],\n",
    "    'Star Rating': [4, 5, 4, 5, 4, 4, 5, 4, 5, 4, 4, 4],\n",
    "    'Review Score': [8.4, 9.0, 8.1, 9.2, 8.5, 8.7, 9.1, 8.0, 9.4, 8.6, 8.1, 8.5]\n",
    "}\n",
    "\n",
    "# Create a DataFrame\n",
    "df = pd.DataFrame(data)\n",
    "\n",
    "# Sort the DataFrame in descending order of user ratings\n",
    "sorted_df = df.sort_values(by='User Ratings', ascending=False)\n",
    "\n",
    "# Display the sorted DataFrame\n",
    "print(sorted_df)\n"
   ]
  },
  {
   "cell_type": "raw",
   "id": "8a599f7d",
   "metadata": {},
   "source": [
    "4) Write a query that retrieves rows where the star rating is greater than or equal to 4.0 and sorts them in descending order of review score."
   ]
  },
  {
   "cell_type": "code",
   "execution_count": 4,
   "id": "92db4717",
   "metadata": {},
   "outputs": [
    {
     "name": "stdout",
     "output_type": "stream",
     "text": [
      "   Hotel name       Cities        Location  Number of Reviews  User Ratings  \\\n",
      "8     Hotel I       Mumbai    Marine Drive               1000           4.9   \n",
      "3     Hotel D     New York    Times Square                900           4.8   \n",
      "6     Hotel G  Los Angeles       Hollywood                800           4.6   \n",
      "1     Hotel B       London     City Center                700           4.5   \n",
      "5     Hotel F       Sydney     Opera House                600           4.3   \n",
      "9     Hotel J         Rome       Colosseum                500           4.3   \n",
      "4     Hotel E        Tokyo        Shinjuku                400           4.2   \n",
      "11    Hotel L      Toronto        CN Tower                500           4.4   \n",
      "0     Hotel A        Dubai        Downtown                500           4.2   \n",
      "2     Hotel C        Paris    Eiffel Tower                300           4.0   \n",
      "10    Hotel K        Cairo        Pyramids                300           4.0   \n",
      "7     Hotel H      Beijing  Forbidden City                400           4.1   \n",
      "\n",
      "    Star Rating  Review Score  \n",
      "8             5           9.4  \n",
      "3             5           9.2  \n",
      "6             5           9.1  \n",
      "1             5           9.0  \n",
      "5             4           8.7  \n",
      "9             4           8.6  \n",
      "4             4           8.5  \n",
      "11            4           8.5  \n",
      "0             4           8.4  \n",
      "2             4           8.1  \n",
      "10            4           8.1  \n",
      "7             4           8.0  \n"
     ]
    }
   ],
   "source": [
    "import pandas as pd\n",
    "\n",
    "# Sample data for 12 cities (replace this with your actual data)\n",
    "data = {\n",
    "    'Hotel name': ['Hotel A', 'Hotel B', 'Hotel C', 'Hotel D', 'Hotel E',\n",
    "                   'Hotel F', 'Hotel G', 'Hotel H', 'Hotel I', 'Hotel J',\n",
    "                   'Hotel K', 'Hotel L'],\n",
    "    'Cities': ['Dubai', 'London', 'Paris', 'New York', 'Tokyo',\n",
    "               'Sydney', 'Los Angeles', 'Beijing', 'Mumbai', 'Rome',\n",
    "               'Cairo', 'Toronto'],\n",
    "    'Location': ['Downtown', 'City Center', 'Eiffel Tower', 'Times Square', 'Shinjuku',\n",
    "                 'Opera House', 'Hollywood', 'Forbidden City', 'Marine Drive', 'Colosseum',\n",
    "                 'Pyramids', 'CN Tower'],\n",
    "    'Number of Reviews': [500, 700, 300, 900, 400, 600, 800, 400, 1000, 500, 300, 500],\n",
    "    'User Ratings': [4.2, 4.5, 4.0, 4.8, 4.2, 4.3, 4.6, 4.1, 4.9, 4.3, 4.0, 4.4],\n",
    "    'Star Rating': [4, 5, 4, 5, 4, 4, 5, 4, 5, 4, 4, 4],\n",
    "    'Review Score': [8.4, 9.0, 8.1, 9.2, 8.5, 8.7, 9.1, 8.0, 9.4, 8.6, 8.1, 8.5]\n",
    "}\n",
    "\n",
    "# Create a DataFrame\n",
    "df = pd.DataFrame(data)\n",
    "\n",
    "# Filter rows where star rating is greater than or equal to 4.0\n",
    "filtered_df = df.loc[df['Star Rating'] >= 4.0]\n",
    "\n",
    "# Sort the filtered DataFrame in descending order of review score\n",
    "sorted_df = filtered_df.sort_values(by='Review Score', ascending=False)\n",
    "\n",
    "# Display the sorted DataFrame\n",
    "print(sorted_df)\n"
   ]
  },
  {
   "cell_type": "raw",
   "id": "09eb8243",
   "metadata": {},
   "source": [
    "5) Write a query to count the number of hotels in each city."
   ]
  },
  {
   "cell_type": "code",
   "execution_count": 5,
   "id": "90ceee1a",
   "metadata": {},
   "outputs": [
    {
     "name": "stdout",
     "output_type": "stream",
     "text": [
      "         Cities  Number of Hotels\n",
      "0       Beijing                 1\n",
      "1         Cairo                 1\n",
      "2         Dubai                 1\n",
      "3        London                 1\n",
      "4   Los Angeles                 1\n",
      "5        Mumbai                 1\n",
      "6      New York                 1\n",
      "7         Paris                 1\n",
      "8          Rome                 1\n",
      "9        Sydney                 1\n",
      "10        Tokyo                 1\n",
      "11      Toronto                 1\n"
     ]
    }
   ],
   "source": [
    "import pandas as pd\n",
    "\n",
    "# Sample data for 12 cities (replace this with your actual data)\n",
    "data = {\n",
    "    'Hotel name': ['Hotel A', 'Hotel B', 'Hotel C', 'Hotel D', 'Hotel E',\n",
    "                   'Hotel F', 'Hotel G', 'Hotel H', 'Hotel I', 'Hotel J',\n",
    "                   'Hotel K', 'Hotel L'],\n",
    "    'Cities': ['Dubai', 'London', 'Paris', 'New York', 'Tokyo',\n",
    "               'Sydney', 'Los Angeles', 'Beijing', 'Mumbai', 'Rome',\n",
    "               'Cairo', 'Toronto'],\n",
    "    'Location': ['Downtown', 'City Center', 'Eiffel Tower', 'Times Square', 'Shinjuku',\n",
    "                 'Opera House', 'Hollywood', 'Forbidden City', 'Marine Drive', 'Colosseum',\n",
    "                 'Pyramids', 'CN Tower'],\n",
    "    'Number of Reviews': [500, 700, 300, 900, 400, 600, 800, 400, 1000, 500, 300, 500],\n",
    "    'User Ratings': [4.2, 4.5, 4.0, 4.8, 4.2, 4.3, 4.6, 4.1, 4.9, 4.3, 4.0, 4.4],\n",
    "    'Star Rating': [4, 5, 4, 5, 4, 4, 5, 4, 5, 4, 4, 4],\n",
    "    'Review Score': [8.4, 9.0, 8.1, 9.2, 8.5, 8.7, 9.1, 8.0, 9.4, 8.6, 8.1, 8.5]\n",
    "}\n",
    "\n",
    "# Create a DataFrame\n",
    "df = pd.DataFrame(data)\n",
    "\n",
    "# Count the number of hotels in each city\n",
    "hotel_count_by_city = df.groupby('Cities')['Hotel name'].count().reset_index()\n",
    "hotel_count_by_city.rename(columns={'Hotel name': 'Number of Hotels'}, inplace=True)\n",
    "\n",
    "# Display the hotel count by city\n",
    "print(hotel_count_by_city)\n"
   ]
  },
  {
   "cell_type": "markdown",
   "id": "8830e9d8",
   "metadata": {},
   "source": [
    "## Table 2"
   ]
  },
  {
   "cell_type": "raw",
   "id": "3cbe216d",
   "metadata": {},
   "source": [
    "1) Write a query to retrieve hotels that have both a restaurant and a bar."
   ]
  },
  {
   "cell_type": "code",
   "execution_count": 6,
   "id": "0e5f130d",
   "metadata": {},
   "outputs": [
    {
     "name": "stdout",
     "output_type": "stream",
     "text": [
      "    sno Hotel name Free Wifi Family rooms Non Smoking Rooms Restaurant  Bar  \\\n",
      "0     1    Hotel A       Yes          Yes               Yes        Yes  Yes   \n",
      "1     2    Hotel B       Yes          Yes               Yes        Yes  Yes   \n",
      "2     3    Hotel C        No          Yes               Yes        Yes  Yes   \n",
      "3     4    Hotel D       Yes          Yes               Yes        Yes  Yes   \n",
      "4     5    Hotel E       Yes           No               Yes        Yes  Yes   \n",
      "5     6    Hotel F       Yes          Yes               Yes        Yes  Yes   \n",
      "6     7    Hotel G       Yes           No                No        Yes  Yes   \n",
      "7     8    Hotel H       Yes          Yes               Yes        Yes  Yes   \n",
      "8     9    Hotel I       Yes          Yes               Yes        Yes  Yes   \n",
      "9    10    Hotel J        No          Yes               Yes        Yes  Yes   \n",
      "10   11    Hotel K       Yes          Yes               Yes        Yes  Yes   \n",
      "11   12    Hotel L       Yes          Yes               Yes        Yes  Yes   \n",
      "\n",
      "   Heating Lift Breakfast Cuisine1 Breakfast Cuisine2 Breakfast Cuisine3  \n",
      "0      Yes  Yes        Continental             Buffet           Omelette  \n",
      "1      Yes  Yes            English        Continental      Eggs Benedict  \n",
      "2      Yes  Yes             French          Croissant              Crepe  \n",
      "3      Yes  Yes           American             Buffet           Pancakes  \n",
      "4      Yes   No           Japanese              Sushi              Natto  \n",
      "5      Yes  Yes         Australian       Full English  Vegemite on Toast  \n",
      "6      Yes   No           American           Pancakes     Bacon and Eggs  \n",
      "7      Yes  Yes            Chinese            Dim Sum             Congee  \n",
      "8      Yes  Yes             Indian               Poha               Idli  \n",
      "9      Yes  Yes            Italian           Pastries             Coffee  \n",
      "10     Yes  Yes           Egyptian            Falafel        Ful Medames  \n",
      "11     Yes  Yes           Canadian     Bacon and Eggs        Maple Syrup  \n"
     ]
    }
   ],
   "source": [
    "import pandas as pd\n",
    "\n",
    "# Load the DataFrame from the CSV file\n",
    "df2 = pd.read_csv('data2.csv')\n",
    "\n",
    "# Retrieve hotels that have both a restaurant and a bar\n",
    "filtered_df = df2[(df2['Restaurant'] == 'Yes') & (df2['Bar'] == 'Yes')]\n",
    "\n",
    "# Display the filtered DataFrame\n",
    "print(filtered_df)\n"
   ]
  },
  {
   "cell_type": "raw",
   "id": "5e1dcee0",
   "metadata": {},
   "source": [
    "2) Write a query to retrieve hotels that offer free wifi and have family rooms."
   ]
  },
  {
   "cell_type": "code",
   "execution_count": 7,
   "id": "3dcdc086",
   "metadata": {},
   "outputs": [
    {
     "name": "stdout",
     "output_type": "stream",
     "text": [
      "    sno Hotel name Free Wifi Family rooms Non Smoking Rooms Restaurant  Bar  \\\n",
      "0     1    Hotel A       Yes          Yes               Yes        Yes  Yes   \n",
      "1     2    Hotel B       Yes          Yes               Yes        Yes  Yes   \n",
      "3     4    Hotel D       Yes          Yes               Yes        Yes  Yes   \n",
      "5     6    Hotel F       Yes          Yes               Yes        Yes  Yes   \n",
      "7     8    Hotel H       Yes          Yes               Yes        Yes  Yes   \n",
      "8     9    Hotel I       Yes          Yes               Yes        Yes  Yes   \n",
      "10   11    Hotel K       Yes          Yes               Yes        Yes  Yes   \n",
      "11   12    Hotel L       Yes          Yes               Yes        Yes  Yes   \n",
      "\n",
      "   Heating Lift Breakfast Cuisine1 Breakfast Cuisine2 Breakfast Cuisine3  \n",
      "0      Yes  Yes        Continental             Buffet           Omelette  \n",
      "1      Yes  Yes            English        Continental      Eggs Benedict  \n",
      "3      Yes  Yes           American             Buffet           Pancakes  \n",
      "5      Yes  Yes         Australian       Full English  Vegemite on Toast  \n",
      "7      Yes  Yes            Chinese            Dim Sum             Congee  \n",
      "8      Yes  Yes             Indian               Poha               Idli  \n",
      "10     Yes  Yes           Egyptian            Falafel        Ful Medames  \n",
      "11     Yes  Yes           Canadian     Bacon and Eggs        Maple Syrup  \n"
     ]
    }
   ],
   "source": [
    "import pandas as pd\n",
    "\n",
    "# Load the DataFrame from the CSV file\n",
    "df2 = pd.read_csv('data2.csv')\n",
    "\n",
    "# Retrieve hotels that offer free Wi-Fi and have family rooms\n",
    "filtered_df = df2[(df2['Free Wifi'] == 'Yes') & (df2['Family rooms'] == 'Yes')]\n",
    "\n",
    "# Display the filtered DataFrame\n",
    "print(filtered_df)\n",
    "\n"
   ]
  },
  {
   "cell_type": "raw",
   "id": "5fc8a821",
   "metadata": {},
   "source": [
    "3) Write a query to count the occurrences of each breakfast cuisine type."
   ]
  },
  {
   "cell_type": "code",
   "execution_count": 8,
   "id": "d2931df1",
   "metadata": {},
   "outputs": [
    {
     "name": "stdout",
     "output_type": "stream",
     "text": [
      "Continental          2\n",
      "Buffet               2\n",
      "Bacon and Eggs       2\n",
      "Pancakes             2\n",
      "American             2\n",
      "Japanese             1\n",
      "Pastries             1\n",
      "Ful Medames          1\n",
      "Coffee               1\n",
      "Idli                 1\n",
      "Congee               1\n",
      "Vegemite on Toast    1\n",
      "Natto                1\n",
      "Crepe                1\n",
      "Eggs Benedict        1\n",
      "Omelette             1\n",
      "French               1\n",
      "Falafel              1\n",
      "Poha                 1\n",
      "Australian           1\n",
      "Dim Sum              1\n",
      "English              1\n",
      "Full English         1\n",
      "Sushi                1\n",
      "Croissant            1\n",
      "Canadian             1\n",
      "Egyptian             1\n",
      "Italian              1\n",
      "Indian               1\n",
      "Chinese              1\n",
      "Maple Syrup          1\n",
      "dtype: int64\n"
     ]
    },
    {
     "name": "stderr",
     "output_type": "stream",
     "text": [
      "C:\\Users\\jakha\\AppData\\Local\\Temp\\ipykernel_11116\\621375677.py:7: FutureWarning: The series.append method is deprecated and will be removed from pandas in a future version. Use pandas.concat instead.\n",
      "  cuisine_counts = df2['Breakfast Cuisine1'].append(df2['Breakfast Cuisine2']).append(df2['Breakfast Cuisine3']).value_counts()\n"
     ]
    }
   ],
   "source": [
    "import pandas as pd\n",
    "\n",
    "# Load the DataFrame from the CSV file\n",
    "df2 = pd.read_csv('data2.csv')\n",
    "\n",
    "# Count the occurrences of each breakfast cuisine type\n",
    "cuisine_counts = df2['Breakfast Cuisine1'].append(df2['Breakfast Cuisine2']).append(df2['Breakfast Cuisine3']).value_counts()\n",
    "\n",
    "# Display the cuisine counts\n",
    "print(cuisine_counts)\n",
    "\n"
   ]
  },
  {
   "cell_type": "markdown",
   "id": "509a37e6",
   "metadata": {},
   "source": [
    "4) Write a query to retrieve hotels that offer a certain (CONTINENTAL) breakfast cuisine."
   ]
  },
  {
   "cell_type": "code",
   "execution_count": 9,
   "id": "21dc850e",
   "metadata": {},
   "outputs": [
    {
     "name": "stdout",
     "output_type": "stream",
     "text": [
      "Empty DataFrame\n",
      "Columns: [sno, Hotel name, Free Wifi, Family rooms, Non Smoking Rooms, Restaurant, Bar, Heating, Lift, Breakfast Cuisine1, Breakfast Cuisine2, Breakfast Cuisine3]\n",
      "Index: []\n"
     ]
    }
   ],
   "source": [
    "import pandas as pd\n",
    "\n",
    "# Load the DataFrame from the CSV file\n",
    "df2 = pd.read_csv('data2.csv')\n",
    "\n",
    "# Define the desired breakfast cuisine (e.g., CONTINENTAL)\n",
    "desired_cuisine = 'CONTINENTAL'\n",
    "\n",
    "# Retrieve hotels that offer the desired breakfast cuisine\n",
    "filtered_df = df2[(df2['Breakfast Cuisine1'] == desired_cuisine) |\n",
    "                   (df2['Breakfast Cuisine2'] == desired_cuisine) |\n",
    "                   (df2['Breakfast Cuisine3'] == desired_cuisine)]\n",
    "\n",
    "# Display the filtered DataFrame\n",
    "print(filtered_df)\n"
   ]
  },
  {
   "cell_type": "raw",
   "id": "a179509f",
   "metadata": {},
   "source": [
    "5) Write a query to see whether an hotel has all amenities such heating, lift and Bar."
   ]
  },
  {
   "cell_type": "code",
   "execution_count": 10,
   "id": "e26f4b63",
   "metadata": {},
   "outputs": [
    {
     "name": "stdout",
     "output_type": "stream",
     "text": [
      "    sno Hotel name Free Wifi Family rooms Non Smoking Rooms Restaurant  Bar  \\\n",
      "0     1    Hotel A       Yes          Yes               Yes        Yes  Yes   \n",
      "1     2    Hotel B       Yes          Yes               Yes        Yes  Yes   \n",
      "2     3    Hotel C        No          Yes               Yes        Yes  Yes   \n",
      "3     4    Hotel D       Yes          Yes               Yes        Yes  Yes   \n",
      "5     6    Hotel F       Yes          Yes               Yes        Yes  Yes   \n",
      "7     8    Hotel H       Yes          Yes               Yes        Yes  Yes   \n",
      "8     9    Hotel I       Yes          Yes               Yes        Yes  Yes   \n",
      "9    10    Hotel J        No          Yes               Yes        Yes  Yes   \n",
      "10   11    Hotel K       Yes          Yes               Yes        Yes  Yes   \n",
      "11   12    Hotel L       Yes          Yes               Yes        Yes  Yes   \n",
      "\n",
      "   Heating Lift Breakfast Cuisine1 Breakfast Cuisine2 Breakfast Cuisine3  \n",
      "0      Yes  Yes        Continental             Buffet           Omelette  \n",
      "1      Yes  Yes            English        Continental      Eggs Benedict  \n",
      "2      Yes  Yes             French          Croissant              Crepe  \n",
      "3      Yes  Yes           American             Buffet           Pancakes  \n",
      "5      Yes  Yes         Australian       Full English  Vegemite on Toast  \n",
      "7      Yes  Yes            Chinese            Dim Sum             Congee  \n",
      "8      Yes  Yes             Indian               Poha               Idli  \n",
      "9      Yes  Yes            Italian           Pastries             Coffee  \n",
      "10     Yes  Yes           Egyptian            Falafel        Ful Medames  \n",
      "11     Yes  Yes           Canadian     Bacon and Eggs        Maple Syrup  \n"
     ]
    }
   ],
   "source": [
    "import pandas as pd\n",
    "\n",
    "# Load the DataFrame from the CSV file\n",
    "df2 = pd.read_csv('data2.csv')\n",
    "\n",
    "# Define the desired amenities\n",
    "desired_amenities = ['Heating', 'Lift', 'Bar']\n",
    "\n",
    "# Filter hotels that have all desired amenities\n",
    "filtered_df = df2[df2[desired_amenities].eq('Yes').all(axis=1)]\n",
    "\n",
    "# Display the filtered DataFrame\n",
    "print(filtered_df)\n"
   ]
  },
  {
   "cell_type": "markdown",
   "id": "63f11dad",
   "metadata": {},
   "source": [
    "## Table 3"
   ]
  },
  {
   "cell_type": "markdown",
   "id": "24e30234",
   "metadata": {},
   "source": [
    "1) write SQL query to retrieve hotels that offer double bed rooms and sort them by price in descending order."
   ]
  },
  {
   "cell_type": "code",
   "execution_count": 11,
   "id": "d0384223",
   "metadata": {},
   "outputs": [
    {
     "name": "stdout",
     "output_type": "stream",
     "text": [
      "   Hotel name Room Type  Prices\n",
      "0     Hotel D     Suite     270\n",
      "1     Hotel B     Suite     250\n",
      "2     Hotel C    Deluxe     160\n",
      "3     Hotel A    Deluxe     150\n",
      "4     Hotel A  Standard     120\n",
      "5     Hotel B  Standard     120\n",
      "6     Hotel C  Standard     120\n",
      "7     Hotel D  Standard     120\n",
      "8     Hotel A  Standard     120\n",
      "9     Hotel B  Standard     120\n",
      "10    Hotel C  Standard     120\n",
      "11    Hotel D  Standard     120\n",
      "12    Hotel A  Standard     120\n",
      "13    Hotel B  Standard     120\n",
      "14    Hotel C  Standard     120\n",
      "15    Hotel D  Standard     120\n",
      "16    Hotel A  Standard     120\n",
      "17    Hotel B  Standard     120\n",
      "18    Hotel C  Standard     120\n",
      "19    Hotel D  Standard     120\n",
      "20    Hotel A  Standard     120\n",
      "21    Hotel B  Standard     120\n",
      "22    Hotel C  Standard     120\n",
      "23    Hotel D  Standard     120\n",
      "24    Hotel A  Standard     120\n",
      "25    Hotel B  Standard     120\n",
      "26    Hotel C  Standard     120\n",
      "27    Hotel D  Standard     120\n",
      "28    Hotel A  Standard     120\n",
      "29    Hotel B  Standard     120\n",
      "30    Hotel C  Standard     120\n",
      "31    Hotel D  Standard     120\n",
      "32    Hotel A  Standard     120\n",
      "33    Hotel B  Standard     120\n",
      "34    Hotel C  Standard     120\n",
      "35    Hotel D  Standard     120\n",
      "36    Hotel A  Standard     120\n",
      "37    Hotel B  Standard     120\n",
      "38    Hotel C  Standard     120\n",
      "39    Hotel D  Standard     120\n",
      "40    Hotel A  Standard     120\n",
      "41    Hotel B  Standard     120\n",
      "42    Hotel C  Standard     120\n",
      "43    Hotel D  Standard     120\n",
      "44    Hotel A  Standard     120\n",
      "45    Hotel B  Standard     120\n",
      "46    Hotel C  Standard     120\n",
      "47    Hotel D  Standard     120\n",
      "48    Hotel A  Standard     120\n",
      "49    Hotel B  Standard     120\n",
      "50    Hotel C  Standard     120\n",
      "51    Hotel D  Standard     120\n"
     ]
    }
   ],
   "source": [
    "import pandas as pd\n",
    "import sqlite3\n",
    "\n",
    "# Load the CSV data into a pandas DataFrame\n",
    "df = pd.read_csv('Data3.csv')\n",
    "\n",
    "# Create a SQLite database in memory\n",
    "conn = sqlite3.connect(':memory:')\n",
    "\n",
    "# Write the DataFrame to the SQLite database\n",
    "df.to_sql('hotels', conn, index=False)\n",
    "\n",
    "# Define and execute an SQL query\n",
    "query = '''\n",
    "SELECT \"Hotel name\", \"Room Type\", Prices\n",
    "FROM hotels\n",
    "WHERE \"Double Bed\" > 0\n",
    "ORDER BY Prices DESC;\n",
    "'''\n",
    "\n",
    "result = pd.read_sql_query(query, conn)\n",
    "\n",
    "# Display the result\n",
    "print(result)\n"
   ]
  },
  {
   "cell_type": "markdown",
   "id": "4d2ef123",
   "metadata": {},
   "source": [
    "2) write a SQL query to calculate the average price for each room type."
   ]
  },
  {
   "cell_type": "code",
   "execution_count": 12,
   "id": "923821bd",
   "metadata": {},
   "outputs": [
    {
     "name": "stdout",
     "output_type": "stream",
     "text": [
      "  Room Type  AveragePrice\n",
      "0    Deluxe    155.000000\n",
      "1  Standard    119.615385\n",
      "2     Suite    260.000000\n"
     ]
    }
   ],
   "source": [
    "import pandas as pd\n",
    "import sqlite3\n",
    "\n",
    "# Load the CSV data into a pandas DataFrame\n",
    "df = pd.read_csv('Data3.csv')\n",
    "\n",
    "# Create a SQLite database in memory\n",
    "conn = sqlite3.connect(':memory:')\n",
    "\n",
    "# Write the DataFrame to the SQLite database\n",
    "df.to_sql('hotels', conn, index=False)\n",
    "\n",
    "# Define and execute an SQL query to calculate the average price for each room type\n",
    "query = '''\n",
    "SELECT \"Room Type\", AVG(Prices) AS AveragePrice\n",
    "FROM hotels\n",
    "GROUP BY \"Room Type\";\n",
    "'''\n",
    "\n",
    "result = pd.read_sql_query(query, conn)\n",
    "\n",
    "# Display the result\n",
    "print(result)\n"
   ]
  },
  {
   "cell_type": "raw",
   "id": "9494b835",
   "metadata": {},
   "source": [
    "3) Write a query to find details of hotels with user ratings above 5 as a threshold  and that offer free WIFI. (Use table 1 and table 2)"
   ]
  },
  {
   "cell_type": "code",
   "execution_count": 22,
   "id": "bd54b3c4",
   "metadata": {},
   "outputs": [
    {
     "name": "stdout",
     "output_type": "stream",
     "text": [
      "   sno Hotel name_x                       cities    location  \\\n",
      "0    1      Hotel A  Dubai, United Arab Emirates  Location A   \n",
      "1    2      Hotel B       London, United Kingdom  Location B   \n",
      "\n",
      "   number of reviews  user ratings star rating review score Hotel name_y  \\\n",
      "0                100           8.5     4 stars    Excellent      Hotel A   \n",
      "1                150           9.0     5 stars       Superb      Hotel B   \n",
      "\n",
      "  Free Wifi Family rooms Non Smoking Rooms Restaurant  Bar Heating Lift  \\\n",
      "0       Yes          Yes               Yes        Yes  Yes     Yes  Yes   \n",
      "1       Yes          Yes               Yes        Yes  Yes     Yes  Yes   \n",
      "\n",
      "  Breakfast Cuisine1 Breakfast Cuisine2 Breakfast Cuisine3  \n",
      "0        Continental             Buffet           Omelette  \n",
      "1            English        Continental      Eggs Benedict  \n"
     ]
    }
   ],
   "source": [
    "import pandas as pd\n",
    "\n",
    "# Read the CSV files into DataFrames\n",
    "df1 = pd.read_csv('Data1.csv')\n",
    "df2 = pd.read_csv('Data2.csv')\n",
    "\n",
    "# Merge the DataFrames using an inner join on 'sno' column\n",
    "merged_df = df1.merge(df2, on='sno')\n",
    "\n",
    "# Perform SQL-like query to find details of hotels with user ratings above 5 and free Wi-Fi\n",
    "query_result = merged_df[(merged_df['user ratings'] > 5) & (merged_df['Free Wifi'] == 'Yes')]\n",
    "\n",
    "# Display the query result\n",
    "print(query_result)\n",
    "\n"
   ]
  },
  {
   "cell_type": "markdown",
   "id": "eecb0972",
   "metadata": {},
   "source": [
    "4) Write a query to find hotels that offer both family rooms and non-smoking rooms(Use table 1 and Table 2)"
   ]
  },
  {
   "cell_type": "code",
   "execution_count": 20,
   "id": "8697dda4",
   "metadata": {},
   "outputs": [
    {
     "name": "stdout",
     "output_type": "stream",
     "text": [
      "   sno Hotel name_x                       cities    location  \\\n",
      "0    1      Hotel A  Dubai, United Arab Emirates  Location A   \n",
      "1    2      Hotel B       London, United Kingdom  Location B   \n",
      "2    3      Hotel C       Kuala Lumpur, Malaysia  Location C   \n",
      "\n",
      "   number of reviews  user ratings star rating review score Hotel name_y  \\\n",
      "0                100           8.5     4 stars    Excellent      Hotel A   \n",
      "1                150           9.0     5 stars       Superb      Hotel B   \n",
      "2                 80           7.5     3 stars         Good      Hotel C   \n",
      "\n",
      "  Free Wifi Family rooms Non Smoking Rooms Restaurant  Bar Heating Lift  \\\n",
      "0       Yes          Yes               Yes        Yes  Yes     Yes  Yes   \n",
      "1       Yes          Yes               Yes        Yes  Yes     Yes  Yes   \n",
      "2        No          Yes               Yes        Yes  Yes     Yes  Yes   \n",
      "\n",
      "  Breakfast Cuisine1 Breakfast Cuisine2 Breakfast Cuisine3  \n",
      "0        Continental             Buffet           Omelette  \n",
      "1            English        Continental      Eggs Benedict  \n",
      "2             French          Croissant              Crepe  \n"
     ]
    }
   ],
   "source": [
    "import pandas as pd\n",
    "\n",
    "# Read the CSV files into DataFrames\n",
    "df1 = pd.read_csv('Data1.csv')\n",
    "df2 = pd.read_csv('Data2.csv')\n",
    "\n",
    "# Merge the DataFrames using an inner join on 'sno' column\n",
    "merged_df = df1.merge(df2, on='sno')\n",
    "\n",
    "# Perform SQL-like query to find hotels that offer both family rooms and non-smoking rooms\n",
    "query_result = merged_df[(merged_df['Family rooms'] == 'Yes') & (merged_df['Non Smoking Rooms'] == 'Yes')]\n",
    "\n",
    "# Display the query result\n",
    "print(query_result)\n"
   ]
  },
  {
   "cell_type": "markdown",
   "id": "a71ea454",
   "metadata": {},
   "source": [
    "5) Write a query to calculate the average price for each room type(Use table2 and Table3)"
   ]
  },
  {
   "cell_type": "code",
   "execution_count": 1,
   "id": "358cfcf4",
   "metadata": {},
   "outputs": [
    {
     "name": "stdout",
     "output_type": "stream",
     "text": [
      "  Room Type  AveragePrice\n",
      "0    Deluxe    155.000000\n",
      "1  Standard    119.615385\n",
      "2     Suite    260.000000\n"
     ]
    }
   ],
   "source": [
    "import pandas as pd\n",
    "\n",
    "# Load CSV data into DataFrames\n",
    "data2 = pd.read_csv('Data2.csv')\n",
    "data3 = pd.read_csv('Data3.csv')\n",
    "\n",
    "# Merge the DataFrames on the 'Hotel name' column\n",
    "merged_data = pd.merge(data3, data2, on='Hotel name', how='inner')\n",
    "\n",
    "# Calculate the average price for each room type\n",
    "average_prices = merged_data.groupby('Room Type')['Prices'].mean().reset_index()\n",
    "\n",
    "# Rename the 'Prices' column to 'AveragePrice'\n",
    "average_prices.rename(columns={'Prices': 'AveragePrice'}, inplace=True)\n",
    "\n",
    "# Display the result\n",
    "print(average_prices)\n",
    "\n"
   ]
  },
  {
   "cell_type": "code",
   "execution_count": null,
   "id": "be90f337",
   "metadata": {},
   "outputs": [],
   "source": []
  }
 ],
 "metadata": {
  "kernelspec": {
   "display_name": "Python 3 (ipykernel)",
   "language": "python",
   "name": "python3"
  },
  "language_info": {
   "codemirror_mode": {
    "name": "ipython",
    "version": 3
   },
   "file_extension": ".py",
   "mimetype": "text/x-python",
   "name": "python",
   "nbconvert_exporter": "python",
   "pygments_lexer": "ipython3",
   "version": "3.9.12"
  }
 },
 "nbformat": 4,
 "nbformat_minor": 5
}
