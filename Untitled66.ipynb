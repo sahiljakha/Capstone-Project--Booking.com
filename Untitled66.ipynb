{
 "cells": [
  {
   "cell_type": "markdown",
   "id": "fc24a4c4",
   "metadata": {},
   "source": [
    "PHASE 3"
   ]
  },
  {
   "cell_type": "markdown",
   "id": "68452a87",
   "metadata": {},
   "source": [
    "Now make only 1 dataframe of 3 csv file using contcat/merge/join operation of pandas as start doing EDA."
   ]
  },
  {
   "cell_type": "markdown",
   "id": "79186622",
   "metadata": {},
   "source": [
    "Do the complete EDA in dtails to explore the insights of data and write the detailed observations of each analusis."
   ]
  },
  {
   "cell_type": "code",
   "execution_count": 1,
   "id": "ba3ba53d",
   "metadata": {},
   "outputs": [],
   "source": [
    "import pandas as pd\n",
    "import matplotlib.pyplot as plt\n",
    "import seaborn as sns\n"
   ]
  },
  {
   "cell_type": "markdown",
   "id": "718131b1",
   "metadata": {},
   "source": [
    "## 1. Data Overview"
   ]
  },
  {
   "cell_type": "code",
   "execution_count": 2,
   "id": "e00cc42d",
   "metadata": {},
   "outputs": [],
   "source": [
    "# Import necessary libraries\n",
    "import pandas as pd\n",
    "import matplotlib.pyplot as plt\n",
    "import seaborn as sns\n",
    "\n",
    "# Load the CSV files\n",
    "data1 = pd.read_csv('Data1.csv')\n",
    "data2 = pd.read_csv('Data2.csv')\n",
    "data3 = pd.read_csv('Data3.csv')\n",
    "\n",
    "# Merge the DataFrames\n",
    "merged_data = pd.merge(data1, data2, on='Hotel name', how='inner')\n",
    "merged_data = pd.merge(merged_data, data3, how='inner')\n",
    "\n"
   ]
  },
  {
   "cell_type": "markdown",
   "id": "a0d72a73",
   "metadata": {},
   "source": [
    "## 2. Data Cleaning"
   ]
  },
  {
   "cell_type": "code",
   "execution_count": 3,
   "id": "b822b679",
   "metadata": {},
   "outputs": [
    {
     "name": "stdout",
     "output_type": "stream",
     "text": [
      "           sno_x  number of reviews  user ratings      sno_y        Sno  \\\n",
      "count  42.000000          42.000000     42.000000  42.000000  42.000000   \n",
      "mean    2.000000         110.000000      8.333333   2.000000  27.928571   \n",
      "std     0.826394          29.796055      0.631169   0.826394  16.441163   \n",
      "min     1.000000          80.000000      7.500000   1.000000   1.000000   \n",
      "25%     1.000000          80.000000      7.500000   1.000000  14.250000   \n",
      "50%     2.000000         100.000000      8.500000   2.000000  28.000000   \n",
      "75%     3.000000         150.000000      9.000000   3.000000  41.750000   \n",
      "max     3.000000         150.000000      9.000000   3.000000  55.000000   \n",
      "\n",
      "       Single Bed  Double Bed      Prices  \n",
      "count   42.000000   42.000000   42.000000  \n",
      "mean     1.928571    0.952381  124.047619  \n",
      "std      0.260661    0.308607   21.646779  \n",
      "min      1.000000    0.000000  100.000000  \n",
      "25%      2.000000    1.000000  120.000000  \n",
      "50%      2.000000    1.000000  120.000000  \n",
      "75%      2.000000    1.000000  120.000000  \n",
      "max      2.000000    2.000000  250.000000  \n",
      "<class 'pandas.core.frame.DataFrame'>\n",
      "Int64Index: 42 entries, 0 to 41\n",
      "Data columns (total 25 columns):\n",
      " #   Column              Non-Null Count  Dtype  \n",
      "---  ------              --------------  -----  \n",
      " 0   sno_x               42 non-null     int64  \n",
      " 1   Hotel name          42 non-null     object \n",
      " 2   cities              42 non-null     object \n",
      " 3   location            42 non-null     object \n",
      " 4   number of reviews   42 non-null     int64  \n",
      " 5   user ratings        42 non-null     float64\n",
      " 6   star rating         42 non-null     object \n",
      " 7   review score        42 non-null     object \n",
      " 8   sno_y               42 non-null     int64  \n",
      " 9   Free Wifi           42 non-null     object \n",
      " 10  Family rooms        42 non-null     object \n",
      " 11  Non Smoking Rooms   42 non-null     object \n",
      " 12  Restaurant          42 non-null     object \n",
      " 13  Bar                 42 non-null     object \n",
      " 14  Heating             42 non-null     object \n",
      " 15  Lift                42 non-null     object \n",
      " 16  Breakfast Cuisine1  42 non-null     object \n",
      " 17  Breakfast Cuisine2  42 non-null     object \n",
      " 18  Breakfast Cuisine3  42 non-null     object \n",
      " 19  Sno                 42 non-null     int64  \n",
      " 20  Room Type           42 non-null     object \n",
      " 21  Single Bed          42 non-null     int64  \n",
      " 22  Double Bed          42 non-null     int64  \n",
      " 23  Prices              42 non-null     int64  \n",
      " 24  City                42 non-null     object \n",
      "dtypes: float64(1), int64(7), object(17)\n",
      "memory usage: 8.5+ KB\n",
      "None\n"
     ]
    }
   ],
   "source": [
    "# Display basic statistics\n",
    "print(merged_data.describe())\n",
    "\n",
    "# Display data types and missing values\n",
    "print(merged_data.info())\n"
   ]
  },
  {
   "cell_type": "markdown",
   "id": "0ab931e0",
   "metadata": {},
   "source": [
    "## 3. Data Visualization"
   ]
  },
  {
   "cell_type": "code",
   "execution_count": 4,
   "id": "55096b84",
   "metadata": {},
   "outputs": [
    {
     "name": "stdout",
     "output_type": "stream",
     "text": [
      "sno_x                 0\n",
      "Hotel name            0\n",
      "cities                0\n",
      "location              0\n",
      "number of reviews     0\n",
      "user ratings          0\n",
      "star rating           0\n",
      "review score          0\n",
      "sno_y                 0\n",
      "Free Wifi             0\n",
      "Family rooms          0\n",
      "Non Smoking Rooms     0\n",
      "Restaurant            0\n",
      "Bar                   0\n",
      "Heating               0\n",
      "Lift                  0\n",
      "Breakfast Cuisine1    0\n",
      "Breakfast Cuisine2    0\n",
      "Breakfast Cuisine3    0\n",
      "Sno                   0\n",
      "Room Type             0\n",
      "Single Bed            0\n",
      "Double Bed            0\n",
      "Prices                0\n",
      "City                  0\n",
      "dtype: int64\n"
     ]
    }
   ],
   "source": [
    "# Count missing values in each column\n",
    "missing_values = merged_data.isnull().sum()\n",
    "print(missing_values)\n"
   ]
  },
  {
   "cell_type": "code",
   "execution_count": null,
   "id": "9f3d5c95",
   "metadata": {},
   "outputs": [],
   "source": []
  },
  {
   "cell_type": "code",
   "execution_count": 5,
   "id": "4fa9e3e7",
   "metadata": {},
   "outputs": [
    {
     "data": {
      "image/png": "[encoded data removed]",
      "text/plain": [
       "<Figure size 720x432 with 1 Axes>"
      ]
     },
     "metadata": {
      "needs_background": "light"
     },
     "output_type": "display_data"
    },
    {
     "data": {
      "image/png": "[encoded data removed]",
      "text/plain": [
       "<Figure size 720x432 with 1 Axes>"
      ]
     },
     "metadata": {
      "needs_background": "light"
     },
     "output_type": "display_data"
    }
   ],
   "source": [
    "# Histogram of 'Prices'\n",
    "plt.figure(figsize=(10, 6))\n",
    "plt.hist(merged_data['Prices'], bins=20, color='skyblue')\n",
    "plt.xlabel('Prices')\n",
    "plt.ylabel('Frequency')\n",
    "plt.title('Distribution of Prices')\n",
    "plt.show()\n",
    "\n",
    "# Count plot of 'Room Type'\n",
    "plt.figure(figsize=(10, 6))\n",
    "sns.countplot(x='Room Type', data=merged_data, palette='Set3')\n",
    "plt.xticks(rotation=45)\n",
    "plt.title('Count of Room Types')\n",
    "plt.show()\n"
   ]
  },
  {
   "cell_type": "markdown",
   "id": "9d03ace1",
   "metadata": {},
   "source": [
    "Phase 4"
   ]
  },
  {
   "cell_type": "markdown",
   "id": "578a4501",
   "metadata": {},
   "source": [
    "Write the complete Machine learning code to make predictions of price and review score. Use appropriate models on their label basis. Remember you need to make 2 different predictions : price and review score (NOTE: inside review score ---- superb/very good/ Good/Pleasant)\n",
    "\n",
    "\n",
    "Apply all the best techniques of scaling,hyperparameter tuning,avoid underfitting or overfittings (bias/variance)\n",
    "\n",
    "At the end save the best model and convey on which basis you have chosen that model."
   ]
  },
  {
   "cell_type": "code",
   "execution_count": 6,
   "id": "ec4365da",
   "metadata": {},
   "outputs": [],
   "source": [
    "import pandas as pd\n",
    "from sklearn.model_selection import train_test_split\n",
    "from sklearn.preprocessing import StandardScaler, LabelEncoder\n",
    "from sklearn.ensemble import RandomForestRegressor, RandomForestClassifier\n",
    "from sklearn.metrics import mean_absolute_error, accuracy_score\n",
    "from sklearn.model_selection import GridSearchCV"
   ]
  },
  {
   "cell_type": "code",
   "execution_count": 7,
   "id": "347b8b75",
   "metadata": {},
   "outputs": [],
   "source": [
    "# Load the dataset \n",
    "data = pd.read_csv('data1.csv')\n",
    "data = pd.read_csv('data2.csv')\n",
    "data = pd.read_csv('data3.csv')\n"
   ]
  },
  {
   "cell_type": "code",
   "execution_count": 11,
   "id": "e16552c1",
   "metadata": {},
   "outputs": [
    {
     "name": "stdout",
     "output_type": "stream",
     "text": [
      "   Feature1  Feature2  Target\n",
      "0  0.945717  0.942403       1\n",
      "1  0.475361  0.705211       0\n",
      "2  0.863290  0.339042       1\n",
      "3  0.304414  0.022150       0\n",
      "4  0.497350  0.031774       0\n"
     ]
    }
   ],
   "source": [
    "import pandas as pd\n",
    "import numpy as np\n",
    "\n",
    "# Create a simple dataset\n",
    "data = {\n",
    "    'Feature1': np.random.rand(100),  # Replace with your actual feature data\n",
    "    'Feature2': np.random.rand(100),  # Replace with your actual feature data\n",
    "    'Target': np.random.randint(0, 2, 100)  # Replace with your actual target variable\n",
    "}\n",
    "\n",
    "# Create a DataFrame\n",
    "df = pd.DataFrame(data)\n",
    "\n",
    "# Save the DataFrame to a CSV file\n",
    "df.to_csv('machine_learning_data.csv', index=False)\n",
    "\n",
    "# Display the DataFrame\n",
    "print(df.head())\n"
   ]
  },
  {
   "cell_type": "code",
   "execution_count": 12,
   "id": "ba450a68",
   "metadata": {},
   "outputs": [
    {
     "ename": "AttributeError",
     "evalue": "'dict' object has no attribute 'columns'",
     "output_type": "error",
     "traceback": [
      "\u001b[1;31m---------------------------------------------------------------------------\u001b[0m",
      "\u001b[1;31mAttributeError\u001b[0m                            Traceback (most recent call last)",
      "Input \u001b[1;32mIn [12]\u001b[0m, in \u001b[0;36m<cell line: 2>\u001b[1;34m()\u001b[0m\n\u001b[0;32m      1\u001b[0m \u001b[38;5;66;03m# List column names in your dataset\u001b[39;00m\n\u001b[1;32m----> 2\u001b[0m \u001b[38;5;28mprint\u001b[39m(\u001b[43mdata\u001b[49m\u001b[38;5;241;43m.\u001b[39;49m\u001b[43mcolumns\u001b[49m)\n",
      "\u001b[1;31mAttributeError\u001b[0m: 'dict' object has no attribute 'columns'"
     ]
    }
   ],
   "source": [
    "# List column names in your dataset\n",
    "print(data.columns)\n"
   ]
  },
  {
   "cell_type": "code",
   "execution_count": 13,
   "id": "ee641443",
   "metadata": {},
   "outputs": [
    {
     "ename": "AttributeError",
     "evalue": "'dict' object has no attribute 'drop'",
     "output_type": "error",
     "traceback": [
      "\u001b[1;31m---------------------------------------------------------------------------\u001b[0m",
      "\u001b[1;31mAttributeError\u001b[0m                            Traceback (most recent call last)",
      "Input \u001b[1;32mIn [13]\u001b[0m, in \u001b[0;36m<cell line: 13>\u001b[1;34m()\u001b[0m\n\u001b[0;32m      8\u001b[0m \u001b[38;5;28;01mfrom\u001b[39;00m \u001b[38;5;21;01mjoblib\u001b[39;00m \u001b[38;5;28;01mimport\u001b[39;00m dump\n\u001b[0;32m     12\u001b[0m \u001b[38;5;66;03m# Separate the data into features and labels\u001b[39;00m\n\u001b[1;32m---> 13\u001b[0m X \u001b[38;5;241m=\u001b[39m \u001b[43mdata\u001b[49m\u001b[38;5;241;43m.\u001b[39;49m\u001b[43mdrop\u001b[49m([\u001b[38;5;124m'\u001b[39m\u001b[38;5;124mprice\u001b[39m\u001b[38;5;124m'\u001b[39m, \u001b[38;5;124m'\u001b[39m\u001b[38;5;124mreview_score\u001b[39m\u001b[38;5;124m'\u001b[39m], axis\u001b[38;5;241m=\u001b[39m\u001b[38;5;241m1\u001b[39m)  \u001b[38;5;66;03m# Features\u001b[39;00m\n\u001b[0;32m     14\u001b[0m y_price \u001b[38;5;241m=\u001b[39m data[\u001b[38;5;124m'\u001b[39m\u001b[38;5;124mprice\u001b[39m\u001b[38;5;124m'\u001b[39m]  \u001b[38;5;66;03m# Price labels\u001b[39;00m\n\u001b[0;32m     15\u001b[0m y_review \u001b[38;5;241m=\u001b[39m data[\u001b[38;5;124m'\u001b[39m\u001b[38;5;124mreview_score\u001b[39m\u001b[38;5;124m'\u001b[39m]  \u001b[38;5;66;03m# Review score labels\u001b[39;00m\n",
      "\u001b[1;31mAttributeError\u001b[0m: 'dict' object has no attribute 'drop'"
     ]
    }
   ],
   "source": [
    "import pandas as pd\n",
    "import numpy as np\n",
    "from sklearn.model_selection import train_test_split\n",
    "from sklearn.preprocessing import StandardScaler, LabelEncoder\n",
    "from sklearn.ensemble import RandomForestRegressor, RandomForestClassifier\n",
    "from sklearn.model_selection import GridSearchCV\n",
    "from sklearn.metrics import mean_squared_error, accuracy_score, classification_report\n",
    "from joblib import dump\n",
    "\n",
    "\n",
    "\n",
    "# Separate the data into features and labels\n",
    "X = data.drop(['price', 'review_score'], axis=1)  # Features\n",
    "y_price = data['price']  # Price labels\n",
    "y_review = data['review_score']  # Review score labels\n",
    "\n",
    "# Encode review score labels\n",
    "label_encoder = LabelEncoder()\n",
    "y_review_encoded = label_encoder.fit_transform()\n",
    "\n",
    "# Split the data into training and testing sets\n",
    "X_train, X_test, y_price_train, y_price_test, y_review_train, y_review_test = train_test_split(\n",
    "    X, y_price, y_review_encoded, test_size=0.2, random_state=42)\n",
    "\n",
    "# Step 1: Data Scaling\n",
    "scaler = StandardScaler()\n",
    "X_train_scaled = scaler.fit_transform(X_train)\n",
    "X_test_scaled = scaler.transform(X_test)\n",
    "\n",
    "# Step 2: Price Prediction (Regression)\n",
    "price_model = RandomForestRegressor()\n",
    "\n",
    "# Hyperparameter tuning\n",
    "param_grid_price = {\n",
    "    'n_estimators': [100, 200, 300],\n",
    "    'max_depth': [None, 10, 20],\n",
    "}\n",
    "price_grid_search = GridSearchCV(price_model, param_grid_price, cv=5, scoring='neg_mean_squared_error')\n",
    "price_grid_search.fit(X_train_scaled, y_price_train)\n",
    "best_price_model = price_grid_search.best_estimator_\n",
    "\n",
    "# Evaluate the price model\n",
    "y_price_pred = best_price_model.predict(X_test_scaled)\n",
    "price_mse = mean_squared_error(y_price_test, y_price_pred)\n",
    "print(f\"Price Mean Squared Error: {price_mse}\")\n",
    "\n",
    "# Step 3: Review Score Prediction (Classification)\n",
    "review_model = RandomForestClassifier()\n",
    "\n",
    "# Hyperparameter tuning\n",
    "param_grid_review = {\n",
    "    'n_estimators': [100, 200, 300],\n",
    "    'max_depth': [None, 10, 20],\n",
    "}\n",
    "review_grid_search = GridSearchCV(review_model, param_grid_review, cv=5, scoring='accuracy')\n",
    "review_grid_search.fit(X_train_scaled, y_review_train)\n",
    "best_review_model = review_grid_search.best_estimator_\n",
    "\n",
    "# Evaluate the review score model\n",
    "y_review_pred = best_review_model.predict(X_test_scaled)\n",
    "review_accuracy = accuracy_score(y_review_test, y_review_pred)\n",
    "review_classification_report = classification_report(y_review_test, y_review_pred, target_names=label_encoder.classes_)\n",
    "print(f\"Review Score Accuracy: {review_accuracy}\")\n",
    "print(\"Review Score Classification Report:\\n\", review_classification_report)\n",
    "\n",
    "# Save the best models\n",
    "dump(best_price_model, 'best_price_model.joblib')\n",
    "dump(best_review_model, 'best_review_model.joblib')\n",
    "\n",
    "# Basis of model selection\n",
    "# For price prediction, we selected the model with the lowest mean squared error (MSE) on the test set.\n",
    "# For review score prediction, we selected the model with the highest accuracy on the test set.\n"
   ]
  },
  {
   "cell_type": "code",
   "execution_count": null,
   "id": "d13e4231",
   "metadata": {},
   "outputs": [],
   "source": [
    "import pandas as pd\n",
    "import numpy as np\n",
    "from sklearn.model_selection import train_test_split\n",
    "from sklearn.preprocessing import StandardScaler, LabelEncoder\n",
    "from sklearn.ensemble import RandomForestRegressor, RandomForestClassifier\n",
    "from sklearn.model_selection import GridSearchCV\n",
    "from sklearn.metrics import mean_squared_error, accuracy_score, classification_report\n",
    "from joblib import dump\n",
    "\n",
    "\n",
    "\n",
    "# Separate the data into features and labels\n",
    "\n",
    "\n",
    "\n",
    "\n",
    "# Encode review score labels\n",
    "label_encoder = LabelEncoder()\n",
    "y_review_encoded = label_encoder.fit_transform(Y)\n",
    "\n",
    "# Split the data into training and testing sets\n",
    "X_train, X_test, y_price_train, y_price_test, y_review_train, y_review_test = train_test_split(\n",
    "    X, y_price, y_review_encoded, test_size=0.2, random_state=42)\n",
    "\n",
    "# Step 1: Data Scaling\n",
    "scaler = StandardScaler()\n",
    "X_train_scaled = scaler.fit_transform(X_train)\n",
    "X_test_scaled = scaler.transform(X_test)\n",
    "\n",
    "# Step 2: Price Prediction (Regression)\n",
    "price_model = RandomForestRegressor()\n",
    "\n",
    "# Hyperparameter tuning\n",
    "param_grid_price = {\n",
    "    'n_estimators': [100, 200, 300],\n",
    "    'max_depth': [None, 10, 20],\n",
    "}\n",
    "price_grid_search = GridSearchCV(price_model, param_grid_price, cv=5, scoring='neg_mean_squared_error')\n",
    "price_grid_search.fit(X_train_scaled, y_price_train)\n",
    "best_price_model = price_grid_search.best_estimator_\n",
    "\n",
    "# Evaluate the price model\n",
    "y_price_pred = best_price_model.predict(X_test_scaled)\n",
    "price_mse = mean_squared_error(y_price_test, y_price_pred)\n",
    "print(f\"Price Mean Squared Error: {price_mse}\")\n",
    "\n",
    "# Step 3: Review Score Prediction (Classification)\n",
    "review_model = RandomForestClassifier()\n",
    "\n",
    "# Hyperparameter tuning\n",
    "param_grid_review = {\n",
    "    'n_estimators': [100, 200, 300],\n",
    "    'max_depth': [None, 10, 20],\n",
    "}\n",
    "review_grid_search = GridSearchCV(review_model, param_grid_review, cv=5, scoring='accuracy')\n",
    "review_grid_search.fit(X_train_scaled, y_review_train)\n",
    "best_review_model = review_grid_search.best_estimator_\n",
    "\n",
    "# Evaluate the review score model\n",
    "y_review_pred = best_review_model.predict(X_test_scaled)\n",
    "review_accuracy = accuracy_score(y_review_test, y_review_pred)\n",
    "review_classification_report = classification_report(y_review_test, y_review_pred, target_names=label_encoder.classes_)\n",
    "print(f\"Review Score Accuracy: {review_accuracy}\")\n",
    "print(\"Review Score Classification Report:\\n\", review_classification_report)\n",
    "\n",
    "# Save the best models\n",
    "dump(best_price_model, 'best_price_model.joblib')\n",
    "dump(best_review_model, 'best_review_model.joblib')\n",
    "\n",
    "# Basis of model selection\n",
    "# For price prediction, we selected the model with the lowest mean squared error (MSE) on the test set.\n",
    "# For review score prediction, we selected the model with the highest accuracy on the test set.\n"
   ]
  },
  {
   "cell_type": "code",
   "execution_count": null,
   "id": "8213990f",
   "metadata": {},
   "outputs": [],
   "source": [
    "# Import necessary libraries\n",
    "from sklearn.model_selection import train_test_split\n",
    "from sklearn.preprocessing import StandardScaler\n",
    "from sklearn.ensemble import RandomForestRegressor, RandomForestClassifier\n",
    "from sklearn.metrics import mean_absolute_error, accuracy_score\n",
    "import joblib  # for model saving\n",
    "\n",
    "# Load and preprocess your data (replace with your data loading and preprocessing steps)\n",
    "# Define your feature variables (X) and target variables (y_price and y_review)\n",
    "\n",
    "# Split the data into training and testing sets for both price and review score predictions\n",
    "X_train_price, X_test_price, y_train_price, y_test_price = train_test_split(X_price, y_price, test_size=0.2, random_state=42)\n",
    "X_train_review, X_test_review, y_train_review, y_test_review = train_test_split(X_review, y_review, test_size=0.2, random_state=42)\n",
    "\n",
    "# Feature Scaling\n",
    "scaler = StandardScaler()\n",
    "X_train_price = scaler.fit_transform(X_train_price)\n",
    "X_test_price = scaler.transform(X_test_price)\n",
    "X_train_review = scaler.fit_transform(X_train_review)\n",
    "X_test_review = scaler.transform(X_test_review)\n",
    "\n",
    "# Train a model to predict price (regression)\n",
    "price_model = RandomForestRegressor(n_estimators=100, random_state=42)\n",
    "price_model.fit(X_train_price, y_train_price)\n",
    "\n",
    "# Train a model to predict review score (classification)\n",
    "review_score_model = RandomForestClassifier(n_estimators=100, random_state=42)\n",
    "review_score_model.fit(X_train_review, y_train_review)\n",
    "\n",
    "# Model Evaluation\n",
    "# Evaluate both models on the test data and print relevant metrics\n",
    "price_predictions = price_model.predict(X_test_price)\n",
    "review_score_predictions = review_score_model.predict(X_test_review)\n",
    "\n",
    "price_mae = mean_absolute_error(y_test_price, price_predictions)\n",
    "review_score_accuracy = accuracy_score(y_test_review, review_score_predictions)\n",
    "\n",
    "print(f\"Price MAE: {price_mae}\")\n",
    "print(f\"Review Score Accuracy: {review_score_accuracy}\")\n",
    "\n",
    "# Save the best models\n",
    "joblib.dump(price_model, 'best_price_model.pkl')\n",
    "joblib.dump(review_score_model, 'best_review_score_model.pkl')\n"
   ]
  },
  {
   "cell_type": "code",
   "execution_count": null,
   "id": "e4654734",
   "metadata": {},
   "outputs": [],
   "source": [
    "import pandas as pd\n",
    "from sklearn.model_selection import train_test_split\n",
    "from sklearn.preprocessing import StandardScaler\n",
    "from sklearn.ensemble import RandomForestRegressor  # For regression tasks\n",
    "from sklearn.ensemble import RandomForestClassifier  # For classification tasks\n",
    "from sklearn.metrics import mean_absolute_error, accuracy_score\n",
    "import joblib  # for model saving\n",
    "\n",
    "\n",
    "\n",
    "\n",
    "# Split the data into training and testing sets\n",
    "X_train, X_test, y_train, y_test = train_test_split(X, y, test_size=0.2, random_state=42)\n",
    "\n",
    "# Feature Scaling\n",
    "scaler = StandardScaler()\n",
    "X_train = scaler.fit_transform(X_train)\n",
    "X_test = scaler.transform(X_test)\n",
    "\n",
    "# Create and train your machine learning model\n",
    "model = RandomForestRegressor(n_estimators=100, random_state=42)  # For regression tasks\n",
    "# model = RandomForestClassifier(n_estimators=100, random_state=42)  # For classification tasks\n",
    "model.fit(X_train, y_train)\n",
    "\n",
    "# Model Evaluation\n",
    "# Evaluate the model on the test data and print relevant metrics\n",
    "predictions = model.predict(X_test)\n",
    "\n",
    "# For regression tasks\n",
    "mae = mean_absolute_error(y_test, predictions)\n",
    "print(f\"Mean Absolute Error: {mae}\")\n",
    "\n",
    "# For classification tasks\n",
    "# accuracy = accuracy_score(y_test, predictions)\n",
    "# print(f\"Accuracy: {accuracy}\")\n",
    "\n",
    "# Save the trained model to a file\n",
    "joblib.dump(model, 'trained_model.pkl')\n"
   ]
  },
  {
   "cell_type": "code",
   "execution_count": null,
   "id": "cbe6b122",
   "metadata": {},
   "outputs": [],
   "source": [
    "\n",
    "\n",
    "\n",
    "\n",
    "# Data Preprocessing (replace with actual preprocessing steps)\n",
    "\n",
    "# Split the data into features and targets for price and review score\n",
    "X_price = data.drop(columns=['Price'])\n",
    "y_price = data['Price']\n",
    "X_review = data.drop(columns=['Review Score'])\n",
    "y_review = data['Review Score']\n",
    "\n",
    "# Split data into training and testing sets\n",
    "X_train_price, X_test_price, y_train_price, y_test_price = train_test_split(X_price, y_price, test_size=0.2, random_state=42)\n",
    "X_train_review, X_test_review, y_train_review, y_test_review = train_test_split(X_review, y_review, test_size=0.2, random_state=42)\n",
    "\n",
    "# Feature Scaling\n",
    "scaler = StandardScaler()\n",
    "X_train_price = scaler.fit_transform(X_train_price)\n",
    "X_test_price = scaler.transform(X_test_price)\n",
    "X_train_review = scaler.fit_transform(X_train_review)\n",
    "X_test_review = scaler.transform(X_test_review)\n",
    "\n",
    "# Price Prediction Model (Linear Regression)\n",
    "price_model = LinearRegression()\n",
    "price_model.fit(X_train_price, y_train_price)\n",
    "y_pred_price = price_model.predict(X_test_price)\n",
    "mae_price = mean_absolute_error(y_test_price, y_pred_price)\n",
    "\n",
    "# Review Score Prediction Model (Logistic Regression)\n",
    "review_model = LogisticRegression()\n",
    "review_model.fit(X_train_review, y_train_review)\n",
    "y_pred_review = review_model.predict(X_test_review)\n",
    "accuracy = accuracy_score(y_test_review, y_pred_review)\n",
    "\n",
    "# Save the best model (choose the best based on evaluation metrics)\n",
    "if mae_price < best_mae:  # You should define 'best_mae' based on your evaluation\n",
    "    best_mae = mae_price\n",
    "    joblib.dump(price_model, 'best_price_model.pkl')\n",
    "if accuracy > best_accuracy:  # You should define 'best_accuracy' based on your evaluation\n",
    "    best_accuracy = accuracy\n",
    "    joblib.dump(review_model, 'best_review_model.pkl')\n"
   ]
  },
  {
   "cell_type": "code",
   "execution_count": null,
   "id": "4c6e072f",
   "metadata": {},
   "outputs": [],
   "source": [
    "print(X_train.shape)\n",
    "print(y_price.shape)\n"
   ]
  },
  {
   "cell_type": "code",
   "execution_count": null,
   "id": "704dac35",
   "metadata": {},
   "outputs": [],
   "source": [
    "\n",
    "\n",
    "# Generate some synthetic data as an example\n",
    "np.random.seed(0)\n",
    "data = {\n",
    "    'Price': np.random.randint(50, 500, 100),\n",
    "    'Review Score': np.random.choice(['Superb', 'Very good', 'Good', 'Pleasant'], 100),\n",
    "    'Feature1': np.random.rand(100),\n",
    "    'Feature2': np.random.rand(100),\n",
    "}\n",
    "\n",
    "df = pd.DataFrame(data)\n",
    "\n",
    "# Encode the 'Review Score' labels to numerical values\n",
    "review_score_mapping = {'Superb': 4, 'Very good': 3, 'Good': 2, 'Pleasant': 1}\n",
    "df['Review Score'] = df['Review Score'].map(review_score_mapping)\n",
    "\n",
    "# Split the data into features and target variables\n",
    "X = df[['Feature1', 'Feature2']]\n",
    "y_price = df['Price']\n",
    "y_review_score = df['Review Score']\n",
    "\n",
    "# Split the data into training and testing sets\n",
    "X_train.shape, X_test, y_price_train, y_price_test, y_review_score_train, y_review_score_test = train_test_split(\n",
    "    X, y_price.shape, y_review_score, test_size=0.2, random_state=42\n",
    ")\n",
    "\n",
    "# Scale the features\n",
    "scaler = StandardScaler()\n",
    "X_train.shape = scaler.fit_transform(X_train.shape)\n",
    "X_test = scaler.transform(X_test)\n",
    "\n",
    "# Train a model to predict price (regression)\n",
    "price_model = RandomForestRegressor(n_estimators=100, random_state=42)\n",
    "price_model.fit(X_train.shape, y_price.shape)\n",
    "\n",
    "# Train a model to predict review score (classification)\n",
    "review_score_model = RandomForestClassifier(n_estimators=100, random_state=42)\n",
    "review_score_model.fit(X_train, y_review_score)\n",
    "\n",
    "# Make predictions\n",
    "price_predictions = price_model.predict(X_test)\n",
    "review_score_predictions = review_score_model.predict(X_test)\n",
    "\n",
    "# Evaluate the models\n",
    "price_mse = mean_squared_error(y_price_test, price_predictions)\n",
    "review_score_classification_report = classification_report(y_review_score_test, review_score_predictions, target_names=review_score_mapping.keys())\n",
    "\n",
    "# Save the trained models\n",
    "joblib.dump(price_model, 'price_model.pkl')\n",
    "joblib.dump(review_score_model, 'review_score_model.pkl')\n",
    "\n",
    "print(f\"Price Model Mean Squared Error: {price_mse}\")\n",
    "print(\"Review Score Model Classification Report:\\n\", review_score_classification_report)\n",
    "print(X_train.shape)\n",
    "print(y_price.shape)\n"
   ]
  },
  {
   "cell_type": "code",
   "execution_count": null,
   "id": "3e71fbd0",
   "metadata": {},
   "outputs": [],
   "source": []
  }
 ],
 "metadata": {
  "kernelspec": {
   "display_name": "Python 3 (ipykernel)",
   "language": "python",
   "name": "python3"
  },
  "language_info": {
   "codemirror_mode": {
    "name": "ipython",
    "version": 3
   },
   "file_extension": ".py",
   "mimetype": "text/x-python",
   "name": "python",
   "nbconvert_exporter": "python",
   "pygments_lexer": "ipython3",
   "version": "3.9.12"
  }
 },
 "nbformat": 4,
 "nbformat_minor": 5
}
